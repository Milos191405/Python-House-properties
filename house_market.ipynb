{
 "cells": [
  {
   "cell_type": "markdown",
   "metadata": {},
   "source": [
    "# House Sales in King County"
   ]
  },
  {
   "cell_type": "markdown",
   "metadata": {},
   "source": [
    "### Importing all libraries, read data and clean data."
   ]
  },
  {
   "cell_type": "code",
   "execution_count": null,
   "metadata": {},
   "outputs": [],
   "source": [
    "import pandas as pd \n",
    "import matplotlib.pyplot as plt  \n",
    "import seaborn as sns  \n",
    "\n",
    "\n",
    "sns.set_style(\"whitegrid\")\n",
    "\n",
    "\n",
    "%matplotlib inline\n"
   ]
  },
  {
   "cell_type": "code",
   "execution_count": 4,
   "metadata": {},
   "outputs": [
    {
     "data": {
      "text/html": [
       "<div>\n",
       "<style scoped>\n",
       "    .dataframe tbody tr th:only-of-type {\n",
       "        vertical-align: middle;\n",
       "    }\n",
       "\n",
       "    .dataframe tbody tr th {\n",
       "        vertical-align: top;\n",
       "    }\n",
       "\n",
       "    .dataframe thead th {\n",
       "        text-align: right;\n",
       "    }\n",
       "</style>\n",
       "<table border=\"1\" class=\"dataframe\">\n",
       "  <thead>\n",
       "    <tr style=\"text-align: right;\">\n",
       "      <th></th>\n",
       "      <th>id</th>\n",
       "      <th>date</th>\n",
       "      <th>price</th>\n",
       "      <th>bedrooms</th>\n",
       "      <th>bathrooms</th>\n",
       "      <th>sqft_living</th>\n",
       "      <th>sqft_lot</th>\n",
       "      <th>floors</th>\n",
       "      <th>waterfront</th>\n",
       "      <th>view</th>\n",
       "      <th>...</th>\n",
       "      <th>grade</th>\n",
       "      <th>sqft_above</th>\n",
       "      <th>sqft_basement</th>\n",
       "      <th>yr_built</th>\n",
       "      <th>yr_renovated</th>\n",
       "      <th>zipcode</th>\n",
       "      <th>lat</th>\n",
       "      <th>long</th>\n",
       "      <th>sqft_living15</th>\n",
       "      <th>sqft_lot15</th>\n",
       "    </tr>\n",
       "  </thead>\n",
       "  <tbody>\n",
       "    <tr>\n",
       "      <th>0</th>\n",
       "      <td>7129300520</td>\n",
       "      <td>20141013T000000</td>\n",
       "      <td>221900.0</td>\n",
       "      <td>3</td>\n",
       "      <td>1.00</td>\n",
       "      <td>1180</td>\n",
       "      <td>5650</td>\n",
       "      <td>1.0</td>\n",
       "      <td>0</td>\n",
       "      <td>0</td>\n",
       "      <td>...</td>\n",
       "      <td>7</td>\n",
       "      <td>1180</td>\n",
       "      <td>0</td>\n",
       "      <td>1955</td>\n",
       "      <td>0</td>\n",
       "      <td>98178</td>\n",
       "      <td>47.5112</td>\n",
       "      <td>-122.257</td>\n",
       "      <td>1340</td>\n",
       "      <td>5650</td>\n",
       "    </tr>\n",
       "    <tr>\n",
       "      <th>1</th>\n",
       "      <td>6414100192</td>\n",
       "      <td>20141209T000000</td>\n",
       "      <td>538000.0</td>\n",
       "      <td>3</td>\n",
       "      <td>2.25</td>\n",
       "      <td>2570</td>\n",
       "      <td>7242</td>\n",
       "      <td>2.0</td>\n",
       "      <td>0</td>\n",
       "      <td>0</td>\n",
       "      <td>...</td>\n",
       "      <td>7</td>\n",
       "      <td>2170</td>\n",
       "      <td>400</td>\n",
       "      <td>1951</td>\n",
       "      <td>1991</td>\n",
       "      <td>98125</td>\n",
       "      <td>47.7210</td>\n",
       "      <td>-122.319</td>\n",
       "      <td>1690</td>\n",
       "      <td>7639</td>\n",
       "    </tr>\n",
       "    <tr>\n",
       "      <th>2</th>\n",
       "      <td>5631500400</td>\n",
       "      <td>20150225T000000</td>\n",
       "      <td>180000.0</td>\n",
       "      <td>2</td>\n",
       "      <td>1.00</td>\n",
       "      <td>770</td>\n",
       "      <td>10000</td>\n",
       "      <td>1.0</td>\n",
       "      <td>0</td>\n",
       "      <td>0</td>\n",
       "      <td>...</td>\n",
       "      <td>6</td>\n",
       "      <td>770</td>\n",
       "      <td>0</td>\n",
       "      <td>1933</td>\n",
       "      <td>0</td>\n",
       "      <td>98028</td>\n",
       "      <td>47.7379</td>\n",
       "      <td>-122.233</td>\n",
       "      <td>2720</td>\n",
       "      <td>8062</td>\n",
       "    </tr>\n",
       "    <tr>\n",
       "      <th>3</th>\n",
       "      <td>2487200875</td>\n",
       "      <td>20141209T000000</td>\n",
       "      <td>604000.0</td>\n",
       "      <td>4</td>\n",
       "      <td>3.00</td>\n",
       "      <td>1960</td>\n",
       "      <td>5000</td>\n",
       "      <td>1.0</td>\n",
       "      <td>0</td>\n",
       "      <td>0</td>\n",
       "      <td>...</td>\n",
       "      <td>7</td>\n",
       "      <td>1050</td>\n",
       "      <td>910</td>\n",
       "      <td>1965</td>\n",
       "      <td>0</td>\n",
       "      <td>98136</td>\n",
       "      <td>47.5208</td>\n",
       "      <td>-122.393</td>\n",
       "      <td>1360</td>\n",
       "      <td>5000</td>\n",
       "    </tr>\n",
       "    <tr>\n",
       "      <th>4</th>\n",
       "      <td>1954400510</td>\n",
       "      <td>20150218T000000</td>\n",
       "      <td>510000.0</td>\n",
       "      <td>3</td>\n",
       "      <td>2.00</td>\n",
       "      <td>1680</td>\n",
       "      <td>8080</td>\n",
       "      <td>1.0</td>\n",
       "      <td>0</td>\n",
       "      <td>0</td>\n",
       "      <td>...</td>\n",
       "      <td>8</td>\n",
       "      <td>1680</td>\n",
       "      <td>0</td>\n",
       "      <td>1987</td>\n",
       "      <td>0</td>\n",
       "      <td>98074</td>\n",
       "      <td>47.6168</td>\n",
       "      <td>-122.045</td>\n",
       "      <td>1800</td>\n",
       "      <td>7503</td>\n",
       "    </tr>\n",
       "  </tbody>\n",
       "</table>\n",
       "<p>5 rows × 21 columns</p>\n",
       "</div>"
      ],
      "text/plain": [
       "           id             date     price  bedrooms  bathrooms  sqft_living  \\\n",
       "0  7129300520  20141013T000000  221900.0         3       1.00         1180   \n",
       "1  6414100192  20141209T000000  538000.0         3       2.25         2570   \n",
       "2  5631500400  20150225T000000  180000.0         2       1.00          770   \n",
       "3  2487200875  20141209T000000  604000.0         4       3.00         1960   \n",
       "4  1954400510  20150218T000000  510000.0         3       2.00         1680   \n",
       "\n",
       "   sqft_lot  floors  waterfront  view  ...  grade  sqft_above  sqft_basement  \\\n",
       "0      5650     1.0           0     0  ...      7        1180              0   \n",
       "1      7242     2.0           0     0  ...      7        2170            400   \n",
       "2     10000     1.0           0     0  ...      6         770              0   \n",
       "3      5000     1.0           0     0  ...      7        1050            910   \n",
       "4      8080     1.0           0     0  ...      8        1680              0   \n",
       "\n",
       "   yr_built  yr_renovated  zipcode      lat     long  sqft_living15  \\\n",
       "0      1955             0    98178  47.5112 -122.257           1340   \n",
       "1      1951          1991    98125  47.7210 -122.319           1690   \n",
       "2      1933             0    98028  47.7379 -122.233           2720   \n",
       "3      1965             0    98136  47.5208 -122.393           1360   \n",
       "4      1987             0    98074  47.6168 -122.045           1800   \n",
       "\n",
       "   sqft_lot15  \n",
       "0        5650  \n",
       "1        7639  \n",
       "2        8062  \n",
       "3        5000  \n",
       "4        7503  \n",
       "\n",
       "[5 rows x 21 columns]"
      ]
     },
     "execution_count": 4,
     "metadata": {},
     "output_type": "execute_result"
    }
   ],
   "source": [
    "df = pd.read_csv(\"data/kc_house_data.csv\")\n",
    "df.head()"
   ]
  },
  {
   "cell_type": "code",
   "execution_count": 5,
   "metadata": {},
   "outputs": [
    {
     "data": {
      "text/plain": [
       "Index(['id', 'date', 'price', 'bedrooms', 'bathrooms', 'sqft_living',\n",
       "       'sqft_lot', 'floors', 'waterfront', 'view', 'condition', 'grade',\n",
       "       'sqft_above', 'sqft_basement', 'yr_built', 'yr_renovated', 'zipcode',\n",
       "       'lat', 'long', 'sqft_living15', 'sqft_lot15'],\n",
       "      dtype='object')"
      ]
     },
     "execution_count": 5,
     "metadata": {},
     "output_type": "execute_result"
    }
   ],
   "source": [
    "df.columns"
   ]
  },
  {
   "cell_type": "code",
   "execution_count": 6,
   "metadata": {},
   "outputs": [
    {
     "name": "stdout",
     "output_type": "stream",
     "text": [
      "id               0\n",
      "date             0\n",
      "price            0\n",
      "bedrooms         0\n",
      "bathrooms        0\n",
      "sqft_living      0\n",
      "sqft_lot         0\n",
      "floors           0\n",
      "waterfront       0\n",
      "view             0\n",
      "condition        0\n",
      "grade            0\n",
      "sqft_above       0\n",
      "sqft_basement    0\n",
      "yr_built         0\n",
      "yr_renovated     0\n",
      "zipcode          0\n",
      "lat              0\n",
      "long             0\n",
      "sqft_living15    0\n",
      "sqft_lot15       0\n",
      "dtype: int64\n"
     ]
    }
   ],
   "source": [
    "missing_values = df.isnull().sum()\n",
    "print(missing_values)"
   ]
  },
  {
   "cell_type": "markdown",
   "metadata": {},
   "source": [
    "## Hypothesis"
   ]
  },
  {
   "cell_type": "markdown",
   "metadata": {},
   "source": [
    "### 1. **Waterfront Effect**: Is there a significant price difference between waterfront and non-waterfront houses? "
   ]
  },
  {
   "cell_type": "code",
   "execution_count": null,
   "metadata": {},
   "outputs": [
    {
     "name": "stdout",
     "output_type": "stream",
     "text": [
      "Total Waterfront Properties: 163\n",
      "Total Non-Waterfront properties: 21450\n"
     ]
    }
   ],
   "source": [
    "waterfront_properties = df[df[\"waterfront\"] == 1]\n",
    "non_waterfront_properties = df[df[\"waterfront\"] == 0]\n",
    "\n",
    "total_waterfront = len(waterfront_properties)\n",
    "total_non_waterfront = len(non_waterfront_properties)\n",
    "\n",
    "print(f\"Total Waterfront Properties: {total_waterfront}\")\n",
    "print(f\"Total Non-Waterfront properties: {total_non_waterfront}\")\n"
   ]
  },
  {
   "cell_type": "code",
   "execution_count": null,
   "metadata": {},
   "outputs": [
    {
     "name": "stdout",
     "output_type": "stream",
     "text": [
      "Average Price of Waterfront Properties: 1661876.0245398772\n",
      "Average Price of Non-Waterfront Properties: 531563.5998135199\n"
     ]
    }
   ],
   "source": [
    "waterfront_properties_mean_price = waterfront_properties[\"price\"].mean()\n",
    "non_waterfront_properties_mean_price = non_waterfront_properties[\"price\"].mean()\n",
    "\n",
    "print(f\"Average Price of Waterfront Properties: {waterfront_properties_mean_price}\")\n",
    "print(f\"Average Price of Non-Waterfront Properties: {non_waterfront_properties_mean_price}\")"
   ]
  },
  {
   "cell_type": "markdown",
   "metadata": {},
   "source": [
    "- From this we can see that water front houses have more than 3 times higher average price. "
   ]
  },
  {
   "cell_type": "code",
   "execution_count": 51,
   "metadata": {},
   "outputs": [
    {
     "name": "stdout",
     "output_type": "stream",
     "text": [
      "Filtered Comparison of Average Prices, Lot Sizes, and Living Spaces by Bedrooms:\n",
      "          Waterfront Price  Waterfront Lot Sqft  Waterfront Living Sqft  \\\n",
      "bedrooms                                                                  \n",
      "0                     0.00                 0.00                    0.00   \n",
      "1               622,680.00            17,323.80                1,070.00   \n",
      "2               918,567.48            19,462.61                1,997.35   \n",
      "3             1,526,424.22            34,794.31                3,015.89   \n",
      "4             1,928,485.00            17,055.65                3,608.12   \n",
      "5             2,770,592.11            22,366.26                4,962.68   \n",
      "6             2,956,250.00            27,906.75                4,602.50   \n",
      "7                     0.00                 0.00                    0.00   \n",
      "8                     0.00                 0.00                    0.00   \n",
      "9                     0.00                 0.00                    0.00   \n",
      "10                    0.00                 0.00                    0.00   \n",
      "11                    0.00                 0.00                    0.00   \n",
      "33                    0.00                 0.00                    0.00   \n",
      "\n",
      "          Non-Waterfront Price  Non-Waterfront Lot Sqft  \\\n",
      "bedrooms                                                  \n",
      "0                   409,503.85                24,141.31   \n",
      "1                   309,781.10                16,258.92   \n",
      "2                   395,497.62                12,013.05   \n",
      "3                   459,280.00                14,281.15   \n",
      "4                   627,859.93                16,718.84   \n",
      "5                   762,771.86                16,701.80   \n",
      "6                   793,718.71                18,447.83   \n",
      "7                   951,184.66                20,840.55   \n",
      "8                 1,105,076.92                 8,971.62   \n",
      "9                   893,999.83                 5,480.00   \n",
      "10                  819,333.33                 8,859.67   \n",
      "11                  520,000.00                 4,960.00   \n",
      "33                  640,000.00                 6,000.00   \n",
      "\n",
      "          Non-Waterfront Living Sqft  \n",
      "bedrooms                              \n",
      "0                           1,707.85  \n",
      "1                             879.84  \n",
      "2                           1,231.15  \n",
      "3                           1,797.90  \n",
      "4                           2,548.49  \n",
      "5                           3,024.54  \n",
      "6                           3,264.67  \n",
      "7                           3,974.21  \n",
      "8                           3,800.00  \n",
      "9                           3,775.00  \n",
      "10                          3,706.67  \n",
      "11                          3,000.00  \n",
      "33                          1,620.00  \n",
      "          Waterfront Price  Waterfront Lot Sqft  Waterfront Living Sqft  \\\n",
      "bedrooms                                                                  \n",
      "1               622,680.00            17,323.80                1,070.00   \n",
      "2               918,567.48            19,462.61                1,997.35   \n",
      "3             1,526,424.22            34,794.31                3,015.89   \n",
      "4             1,928,485.00            17,055.65                3,608.12   \n",
      "5             2,770,592.11            22,366.26                4,962.68   \n",
      "6             2,956,250.00            27,906.75                4,602.50   \n",
      "\n",
      "          Non-Waterfront Price  Non-Waterfront Lot Sqft  \\\n",
      "bedrooms                                                  \n",
      "1                   309,781.10                16,258.92   \n",
      "2                   395,497.62                12,013.05   \n",
      "3                   459,280.00                14,281.15   \n",
      "4                   627,859.93                16,718.84   \n",
      "5                   762,771.86                16,701.80   \n",
      "6                   793,718.71                18,447.83   \n",
      "\n",
      "          Non-Waterfront Living Sqft  \n",
      "bedrooms                              \n",
      "1                             879.84  \n",
      "2                           1,231.15  \n",
      "3                           1,797.90  \n",
      "4                           2,548.49  \n",
      "5                           3,024.54  \n",
      "6                           3,264.67  \n"
     ]
    }
   ],
   "source": [
    "def calculate_avg_metrics_by_bedrooms(properties, label):\n",
    "    avg_metrics = properties.groupby(\"bedrooms\")[[\"price\", \"sqft_lot\", \"sqft_living\"]].mean().sort_index()\n",
    "    return avg_metrics\n",
    "\n",
    "pd.options.display.float_format = '{:,.2f}'.format\n",
    "\n",
    "# Calculate averages for waterfront and non-waterfront properties\n",
    "avg_metrics_water = calculate_avg_metrics_by_bedrooms(waterfront_properties, \"Waterfront Properties\")\n",
    "avg_metrics_non_water = calculate_avg_metrics_by_bedrooms(non_waterfront_properties, \"Non-Waterfront Properties\")\n",
    "\n",
    "# Create DataFrame with both property types\n",
    "avg_metrics = pd.DataFrame({\n",
    "    \"Waterfront Price\": avg_metrics_water[\"price\"],\n",
    "    \"Waterfront Lot Sqft\": avg_metrics_water[\"sqft_lot\"],\n",
    "    \"Waterfront Living Sqft\": avg_metrics_water[\"sqft_living\"],\n",
    "    \"Non-Waterfront Price\": avg_metrics_non_water[\"price\"],\n",
    "    \"Non-Waterfront Lot Sqft\": avg_metrics_non_water[\"sqft_lot\"],\n",
    "    \"Non-Waterfront Living Sqft\": avg_metrics_non_water[\"sqft_living\"]\n",
    "}).fillna(0)\n",
    "\n",
    "# Filter rows where both \"Waterfront\" and \"Non-Waterfront\" have non-zero values\n",
    "avg_metrics_filtered = avg_metrics[\n",
    "    (avg_metrics[\"Waterfront Price\"] > 0) & (avg_metrics[\"Non-Waterfront Price\"] > 0)\n",
    "]\n",
    "\n",
    "# Print results\n",
    "print(\"Filtered Comparison of Average Prices, Lot Sizes, and Living Spaces by Bedrooms:\")\n",
    "print(avg_metrics)\n",
    "print(avg_metrics_filtered)\n"
   ]
  },
  {
   "cell_type": "markdown",
   "metadata": {},
   "source": [
    "- Here we can see that non-water properties has some houses with more than 6 bedrooms. And from that I wanted to check is it possible that non-water properties have bigger lot. From this table is visible that waterfront  have bigger lots."
   ]
  },
  {
   "cell_type": "code",
   "execution_count": 40,
   "metadata": {},
   "outputs": [
    {
     "name": "stdout",
     "output_type": "stream",
     "text": [
      "Filtered Comparison of Average Prices by Bedrooms:\n",
      "           Waterfront  Non-Waterfront\n",
      "bedrooms                             \n",
      "1          622,680.00      309,781.10\n",
      "2          918,567.48      395,497.62\n",
      "3        1,526,424.22      459,280.00\n",
      "4        1,928,485.00      627,859.93\n",
      "5        2,770,592.11      762,771.86\n",
      "6        2,956,250.00      793,718.71\n"
     ]
    }
   ],
   "source": [
    "\n",
    "def calculate_avg_price_by_bedrooms(properties,label ):\n",
    "    avg_price = properties.groupby(\"bedrooms\")[\"price\"].mean().sort_index()\n",
    "    \n",
    "    return avg_price\n",
    "\n",
    "pd.options.display.float_format = '{:,.2f}'.format\n",
    "\n",
    "avg_price_water = calculate_avg_price_by_bedrooms(waterfront_properties, \"Waterfront Properties\")\n",
    "avg_price_non_water = calculate_avg_price_by_bedrooms(non_waterfront_properties, \"Non-Waterfront Properties\")\n",
    "\n",
    "avg_prices = pd.DataFrame({\n",
    "    \"Waterfront\": avg_price_water,\n",
    "    \"Non-Waterfront\": avg_price_non_water}).fillna(0)\n",
    "\n",
    "avg_prices_filtered = avg_prices[(avg_prices[\"Waterfront\"] > 0 ) & (avg_prices[\"Non-Waterfront\"] > 0)]\n",
    "\n",
    "print(\"Filtered Comparison of Average Prices by Bedrooms:\")\n",
    "print(avg_prices_filtered)"
   ]
  },
  {
   "cell_type": "markdown",
   "metadata": {},
   "source": [
    "- Here I selected water and non-water front houses by number of rooms and average prices. "
   ]
  },
  {
   "cell_type": "code",
   "execution_count": 55,
   "metadata": {},
   "outputs": [
    {
     "data": {
      "text/plain": [
       "(array([0, 1, 2, 3, 4, 5]),\n",
       " [Text(0, 0, '1'),\n",
       "  Text(1, 0, '2'),\n",
       "  Text(2, 0, '3'),\n",
       "  Text(3, 0, '4'),\n",
       "  Text(4, 0, '5'),\n",
       "  Text(5, 0, '6')])"
      ]
     },
     "execution_count": 55,
     "metadata": {},
     "output_type": "execute_result"
    },
    {
     "data": {
      "text/plain": [
       "<Figure size 1000x600 with 0 Axes>"
      ]
     },
     "metadata": {},
     "output_type": "display_data"
    },
    {
     "data": {
      "image/png": "[encoded data removed]",
      "text/plain": [
       "<Figure size 640x480 with 1 Axes>"
      ]
     },
     "metadata": {},
     "output_type": "display_data"
    }
   ],
   "source": [
    "plt.figure(figsize=(10, 6))\n",
    "avg_prices_filtered_plot = avg_prices_filtered.plot(kind=\"bar\", color=[\"skyblue\", \"orange\"])\n",
    "\n",
    "plt.title(\"Average House Prices by Bedrooms (Waterfront vs Non-waterfront)\")\n",
    "plt.xlabel(\"Number of Bedrooms\")\n",
    "plt.ylabel(\"Average Price($)\")\n",
    "plt.xticks(rotation=0)\n",
    "\n"
   ]
  },
  {
   "cell_type": "markdown",
   "metadata": {},
   "source": [
    "## Conclusion\n",
    "\n",
    "There is a **significant price difference** between **waterfront and non-waterfront properties**. In addition to the premium for scenic views, **waterfront properties generally come with larger lots**, contributing to their higher prices. The added privacy—due to having no neighbors on the water-facing side—further enhances their value. Buyers are not only paying for the **view** but also for **larger land, exclusivity, and a unique living experience**.\n"
   ]
  },
  {
   "cell_type": "markdown",
   "metadata": {},
   "source": [
    "### 2. **Build Year Influence**: Does the year a house was built impact its price? "
   ]
  }
 ],
 "metadata": {
  "kernelspec": {
   "display_name": "base",
   "language": "python",
   "name": "python3"
  },
  "language_info": {
   "codemirror_mode": {
    "name": "ipython",
    "version": 3
   },
   "file_extension": ".py",
   "mimetype": "text/x-python",
   "name": "python",
   "nbconvert_exporter": "python",
   "pygments_lexer": "ipython3",
   "version": "3.12.7"
  }
 },
 "nbformat": 4,
 "nbformat_minor": 2
}
